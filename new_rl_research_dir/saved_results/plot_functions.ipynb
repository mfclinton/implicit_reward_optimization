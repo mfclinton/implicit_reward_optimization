{
 "cells": [
  {
   "cell_type": "code",
   "execution_count": 1,
   "id": "analyzed-cuisine",
   "metadata": {},
   "outputs": [],
   "source": [
    "import sys\n",
    "sys.path.insert(0,'..')"
   ]
  },
  {
   "cell_type": "code",
   "execution_count": 53,
   "id": "agreed-flexibility",
   "metadata": {},
   "outputs": [],
   "source": [
    "import numpy as np\n",
    "import pandas as pd\n",
    "import matplotlib as plt\n",
    "import glob\n",
    "from scipy import stats\n",
    "from Src.Utils.utils import *\n",
    "from Environments.Gridworld_687 import Gridworld_687\n",
    "from Src.Utils.Basis import OneHot_Basis\n",
    "from Src.Algorithms.Reward.RewardFunc import RewardFunc\n",
    "from Src.Algorithms.Gamma.GammaFunc import GammaFunc\n",
    "import plotly.graph_objects as go"
   ]
  },
  {
   "cell_type": "code",
   "execution_count": 24,
   "id": "excessive-denmark",
   "metadata": {},
   "outputs": [
    {
     "name": "stdout",
     "output_type": "stream",
     "text": [
      "Env Type  GW\n"
     ]
    }
   ],
   "source": [
    "# GW, or MC\n",
    "env_type = \"GW\"\n",
    "print(\"Env Type \", env_type)"
   ]
  },
  {
   "cell_type": "code",
   "execution_count": 34,
   "id": "illegal-explorer",
   "metadata": {},
   "outputs": [],
   "source": [
    "class WeakConfig:\n",
    "    def __init__(self):\n",
    "        self.env = None\n",
    "        self.basis = None"
   ]
  },
  {
   "cell_type": "code",
   "execution_count": 121,
   "id": "turkish-challenge",
   "metadata": {},
   "outputs": [
    {
     "name": "stdout",
     "output_type": "stream",
     "text": [
      "Gridworld\n",
      "INITIALIZE REWARD FUNCTION\n"
     ]
    }
   ],
   "source": [
    "dir_path = \"our_method/models\"\n",
    "aux_id = 1\n",
    "model_percentage = \"0.0\"\n",
    "if env_type == \"GW\":\n",
    "    print(\"Gridworld\")    \n",
    "    env = Gridworld_687()\n",
    "    \n",
    "    config = WeakConfig()\n",
    "    config.env = env\n",
    "    \n",
    "    \n",
    "    basis = OneHot_Basis()\n",
    "    basis.init(config)\n",
    "    config.basis = basis\n",
    "    \n",
    "    width = env.width\n",
    "    \n",
    "    path = f\"{dir_path}/{aux_id}\"\n",
    "    r_path = f\"{path}/Reward_Model_{model_percentage}\"\n",
    "    g_path = f\"{path}/Gamma_Model_{model_percentage}\"\n",
    "    \n",
    "    r_func = RewardFunc()\n",
    "    r_func.init(config)\n",
    "    g_func = GammaFunc()\n",
    "    g_func.init(config)\n",
    "    \n",
    "    r_func.load_state_dict(torch.load(r_path))\n",
    "    g_func.load_state_dict(torch.load(g_path))\n",
    "    \n",
    "    X = []\n",
    "    Y = []\n",
    "    R = []\n",
    "    G = []\n",
    "    \n",
    "    offsets = env.action_state_offset\n",
    "    scale = 1/4\n",
    "    for key in offsets.keys():\n",
    "        offsets[key] = offsets[key].astype(float) * scale\n",
    "\n",
    "    \n",
    "    for y in range(width):\n",
    "        for x in range(width):\n",
    "            pos = torch.tensor([[x,y]])\n",
    "            onehot = basis(pos)\n",
    "            for a_idx in range(env.action_space.n):\n",
    "                a = torch.zeros(1,env.action_space.n)\n",
    "                a[0,a_idx] = 1\n",
    "                \n",
    "                r = r_func(pos, onehot, action = a)\n",
    "                g = g_func(onehot, action = a)\n",
    "#                 print(g)\n",
    "                \n",
    "                cur_offsets = offsets[a_idx]\n",
    "                \n",
    "                X.append(x + cur_offsets[0])\n",
    "                Y.append(y + cur_offsets[1])\n",
    "                R.append(r[0].detach().numpy())\n",
    "                G.append(g[0].detach().numpy())\n",
    "                \n",
    "            \n",
    "            \n",
    "            \n"
   ]
  },
  {
   "cell_type": "code",
   "execution_count": 123,
   "id": "injured-turner",
   "metadata": {},
   "outputs": [
    {
     "name": "stdout",
     "output_type": "stream",
     "text": [
      "[array(0.00841362, dtype=float32), array(0.09907558, dtype=float32), array(0., dtype=float32), array(0., dtype=float32), array(0.12892461, dtype=float32), array(0., dtype=float32), array(0.02643421, dtype=float32), array(0.1753753, dtype=float32), array(0., dtype=float32), array(0., dtype=float32), array(0.19032508, dtype=float32), array(0., dtype=float32), array(0., dtype=float32), array(0., dtype=float32), array(0., dtype=float32), array(0., dtype=float32), array(0., dtype=float32), array(0., dtype=float32), array(0., dtype=float32), array(0.05729871, dtype=float32), array(0.13998668, dtype=float32), array(0.00218766, dtype=float32), array(0., dtype=float32), array(0.00637167, dtype=float32), array(0., dtype=float32), array(0.14002016, dtype=float32), array(0., dtype=float32), array(0., dtype=float32), array(0.16869774, dtype=float32), array(0.02496777, dtype=float32), array(0.0902788, dtype=float32), array(0., dtype=float32), array(0.07232151, dtype=float32), array(0.17913857, dtype=float32), array(0., dtype=float32), array(0.15941648, dtype=float32), array(0.0253252, dtype=float32), array(0.12234249, dtype=float32), array(0., dtype=float32), array(0.03256774, dtype=float32), array(0., dtype=float32), array(0., dtype=float32), array(0., dtype=float32), array(0.1659249, dtype=float32), array(0., dtype=float32), array(0.08970082, dtype=float32), array(0.11499121, dtype=float32), array(0., dtype=float32), array(0.02509327, dtype=float32), array(0., dtype=float32), array(0.10591473, dtype=float32), array(0.05891109, dtype=float32), array(0., dtype=float32), array(0., dtype=float32), array(0.15350437, dtype=float32), array(0., dtype=float32), array(0., dtype=float32), array(0.05882454, dtype=float32), array(0.07254463, dtype=float32), array(0., dtype=float32), array(0.02551861, dtype=float32), array(0.06603842, dtype=float32), array(0., dtype=float32), array(0., dtype=float32), array(0., dtype=float32), array(0.15004562, dtype=float32), array(0., dtype=float32), array(0.06764019, dtype=float32), array(0., dtype=float32), array(0., dtype=float32), array(0.05908599, dtype=float32), array(0.06323319, dtype=float32), array(0.16149855, dtype=float32), array(0.00032017, dtype=float32), array(0.16440694, dtype=float32), array(0., dtype=float32), array(0., dtype=float32), array(0.10296471, dtype=float32), array(0.05437844, dtype=float32), array(0., dtype=float32), array(0., dtype=float32), array(0., dtype=float32), array(0., dtype=float32), array(0., dtype=float32), array(0.19784775, dtype=float32), array(0.14459613, dtype=float32), array(0., dtype=float32), array(0.13830896, dtype=float32), array(0.07224741, dtype=float32), array(0., dtype=float32), array(0., dtype=float32), array(0., dtype=float32), array(0.00566261, dtype=float32), array(0.0027565, dtype=float32), array(0.0432096, dtype=float32), array(0.0819331, dtype=float32), array(0., dtype=float32), array(0., dtype=float32), array(0., dtype=float32), array(0., dtype=float32)]\n"
     ]
    },
    {
     "data": {
      "application/vnd.plotly.v1+json": {
       "config": {
        "plotlyServerURL": "https://plot.ly"
       },
       "data": [
        {
         "colorscale": [
          [
           0,
           "#440154"
          ],
          [
           0.1111111111111111,
           "#482878"
          ],
          [
           0.2222222222222222,
           "#3e4989"
          ],
          [
           0.3333333333333333,
           "#31688e"
          ],
          [
           0.4444444444444444,
           "#26828e"
          ],
          [
           0.5555555555555556,
           "#1f9e89"
          ],
          [
           0.6666666666666666,
           "#35b779"
          ],
          [
           0.7777777777777778,
           "#6ece58"
          ],
          [
           0.8888888888888888,
           "#b5de2b"
          ],
          [
           1,
           "#fde725"
          ]
         ],
         "intensity": [
          0.008413624949753284,
          0.09907557815313339,
          0,
          0,
          0.12892460823059082,
          0,
          0.02643420733511448,
          0.175375297665596,
          0,
          0,
          0.1903250813484192,
          0,
          0,
          0,
          0,
          0,
          0,
          0,
          0,
          0.05729870870709419,
          0.13998667895793915,
          0.0021876574028283358,
          0,
          0.0063716652803123,
          0,
          0.14002016186714172,
          0,
          0,
          0.16869774460792542,
          0.02496776543557644,
          0.09027879685163498,
          0,
          0.07232151180505753,
          0.17913857102394104,
          0,
          0.15941648185253143,
          0.02532520331442356,
          0.12234248965978622,
          0,
          0.032567739486694336,
          0,
          0,
          0,
          0.16592490673065186,
          0,
          0.08970081806182861,
          0.1149912104010582,
          0,
          0.02509327046573162,
          0,
          0.10591473430395126,
          0.05891108512878418,
          0,
          0,
          0.1535043716430664,
          0,
          0,
          0.05882453918457031,
          0.072544626891613,
          0,
          0.02551860921084881,
          0.06603842228651047,
          0,
          0,
          0,
          0.15004561841487885,
          0,
          0.06764018535614014,
          0,
          0,
          0.059085991233587265,
          0.06323318928480148,
          0.1614985466003418,
          0.00032017231569625437,
          0.1644069403409958,
          0,
          0,
          0.10296471416950226,
          0.054378438740968704,
          0,
          0,
          0,
          0,
          0,
          0.19784775376319885,
          0.144596129655838,
          0,
          0.13830895721912384,
          0.07224740833044052,
          0,
          0,
          0,
          0.005662608426064253,
          0.002756500383839011,
          0.04320960119366646,
          0.08193309605121613,
          0,
          0,
          0,
          0
         ],
         "opacity": 1,
         "type": "mesh3d",
         "x": [
          0,
          0.25,
          0,
          -0.25,
          1,
          1.25,
          1,
          0.75,
          2,
          2.25,
          2,
          1.75,
          3,
          3.25,
          3,
          2.75,
          4,
          4.25,
          4,
          3.75,
          0,
          0.25,
          0,
          -0.25,
          1,
          1.25,
          1,
          0.75,
          2,
          2.25,
          2,
          1.75,
          3,
          3.25,
          3,
          2.75,
          4,
          4.25,
          4,
          3.75,
          0,
          0.25,
          0,
          -0.25,
          1,
          1.25,
          1,
          0.75,
          2,
          2.25,
          2,
          1.75,
          3,
          3.25,
          3,
          2.75,
          4,
          4.25,
          4,
          3.75,
          0,
          0.25,
          0,
          -0.25,
          1,
          1.25,
          1,
          0.75,
          2,
          2.25,
          2,
          1.75,
          3,
          3.25,
          3,
          2.75,
          4,
          4.25,
          4,
          3.75,
          0,
          0.25,
          0,
          -0.25,
          1,
          1.25,
          1,
          0.75,
          2,
          2.25,
          2,
          1.75,
          3,
          3.25,
          3,
          2.75,
          4,
          4.25,
          4,
          3.75
         ],
         "y": [
          -0.25,
          0,
          0.25,
          0,
          -0.25,
          0,
          0.25,
          0,
          -0.25,
          0,
          0.25,
          0,
          -0.25,
          0,
          0.25,
          0,
          -0.25,
          0,
          0.25,
          0,
          0.75,
          1,
          1.25,
          1,
          0.75,
          1,
          1.25,
          1,
          0.75,
          1,
          1.25,
          1,
          0.75,
          1,
          1.25,
          1,
          0.75,
          1,
          1.25,
          1,
          1.75,
          2,
          2.25,
          2,
          1.75,
          2,
          2.25,
          2,
          1.75,
          2,
          2.25,
          2,
          1.75,
          2,
          2.25,
          2,
          1.75,
          2,
          2.25,
          2,
          2.75,
          3,
          3.25,
          3,
          2.75,
          3,
          3.25,
          3,
          2.75,
          3,
          3.25,
          3,
          2.75,
          3,
          3.25,
          3,
          2.75,
          3,
          3.25,
          3,
          3.75,
          4,
          4.25,
          4,
          3.75,
          4,
          4.25,
          4,
          3.75,
          4,
          4.25,
          4,
          3.75,
          4,
          4.25,
          4,
          3.75,
          4,
          4.25,
          4
         ],
         "z": [
          0.008413624949753284,
          0.09907557815313339,
          0,
          0,
          0.12892460823059082,
          0,
          0.02643420733511448,
          0.175375297665596,
          0,
          0,
          0.1903250813484192,
          0,
          0,
          0,
          0,
          0,
          0,
          0,
          0,
          0.05729870870709419,
          0.13998667895793915,
          0.0021876574028283358,
          0,
          0.0063716652803123,
          0,
          0.14002016186714172,
          0,
          0,
          0.16869774460792542,
          0.02496776543557644,
          0.09027879685163498,
          0,
          0.07232151180505753,
          0.17913857102394104,
          0,
          0.15941648185253143,
          0.02532520331442356,
          0.12234248965978622,
          0,
          0.032567739486694336,
          0,
          0,
          0,
          0.16592490673065186,
          0,
          0.08970081806182861,
          0.1149912104010582,
          0,
          0.02509327046573162,
          0,
          0.10591473430395126,
          0.05891108512878418,
          0,
          0,
          0.1535043716430664,
          0,
          0,
          0.05882453918457031,
          0.072544626891613,
          0,
          0.02551860921084881,
          0.06603842228651047,
          0,
          0,
          0,
          0.15004561841487885,
          0,
          0.06764018535614014,
          0,
          0,
          0.059085991233587265,
          0.06323318928480148,
          0.1614985466003418,
          0.00032017231569625437,
          0.1644069403409958,
          0,
          0,
          0.10296471416950226,
          0.054378438740968704,
          0,
          0,
          0,
          0,
          0,
          0.19784775376319885,
          0.144596129655838,
          0,
          0.13830895721912384,
          0.07224740833044052,
          0,
          0,
          0,
          0.005662608426064253,
          0.002756500383839011,
          0.04320960119366646,
          0.08193309605121613,
          0,
          0,
          0,
          0
         ]
        }
       ],
       "layout": {
        "autosize": true,
        "scene": {
         "aspectmode": "auto",
         "aspectratio": {
          "x": 1,
          "y": 1,
          "z": 1
         },
         "camera": {
          "center": {
           "x": 0,
           "y": 0,
           "z": 0
          },
          "eye": {
           "x": 1.3680938276407348,
           "y": 0.30775079441140063,
           "z": 1.649578348339501
          },
          "projection": {
           "type": "perspective"
          },
          "up": {
           "x": 0,
           "y": 0,
           "z": 1
          }
         }
        },
        "template": {
         "data": {
          "bar": [
           {
            "error_x": {
             "color": "#2a3f5f"
            },
            "error_y": {
             "color": "#2a3f5f"
            },
            "marker": {
             "line": {
              "color": "#E5ECF6",
              "width": 0.5
             }
            },
            "type": "bar"
           }
          ],
          "barpolar": [
           {
            "marker": {
             "line": {
              "color": "#E5ECF6",
              "width": 0.5
             }
            },
            "type": "barpolar"
           }
          ],
          "carpet": [
           {
            "aaxis": {
             "endlinecolor": "#2a3f5f",
             "gridcolor": "white",
             "linecolor": "white",
             "minorgridcolor": "white",
             "startlinecolor": "#2a3f5f"
            },
            "baxis": {
             "endlinecolor": "#2a3f5f",
             "gridcolor": "white",
             "linecolor": "white",
             "minorgridcolor": "white",
             "startlinecolor": "#2a3f5f"
            },
            "type": "carpet"
           }
          ],
          "choropleth": [
           {
            "colorbar": {
             "outlinewidth": 0,
             "ticks": ""
            },
            "type": "choropleth"
           }
          ],
          "contour": [
           {
            "colorbar": {
             "outlinewidth": 0,
             "ticks": ""
            },
            "colorscale": [
             [
              0,
              "#0d0887"
             ],
             [
              0.1111111111111111,
              "#46039f"
             ],
             [
              0.2222222222222222,
              "#7201a8"
             ],
             [
              0.3333333333333333,
              "#9c179e"
             ],
             [
              0.4444444444444444,
              "#bd3786"
             ],
             [
              0.5555555555555556,
              "#d8576b"
             ],
             [
              0.6666666666666666,
              "#ed7953"
             ],
             [
              0.7777777777777778,
              "#fb9f3a"
             ],
             [
              0.8888888888888888,
              "#fdca26"
             ],
             [
              1,
              "#f0f921"
             ]
            ],
            "type": "contour"
           }
          ],
          "contourcarpet": [
           {
            "colorbar": {
             "outlinewidth": 0,
             "ticks": ""
            },
            "type": "contourcarpet"
           }
          ],
          "heatmap": [
           {
            "colorbar": {
             "outlinewidth": 0,
             "ticks": ""
            },
            "colorscale": [
             [
              0,
              "#0d0887"
             ],
             [
              0.1111111111111111,
              "#46039f"
             ],
             [
              0.2222222222222222,
              "#7201a8"
             ],
             [
              0.3333333333333333,
              "#9c179e"
             ],
             [
              0.4444444444444444,
              "#bd3786"
             ],
             [
              0.5555555555555556,
              "#d8576b"
             ],
             [
              0.6666666666666666,
              "#ed7953"
             ],
             [
              0.7777777777777778,
              "#fb9f3a"
             ],
             [
              0.8888888888888888,
              "#fdca26"
             ],
             [
              1,
              "#f0f921"
             ]
            ],
            "type": "heatmap"
           }
          ],
          "heatmapgl": [
           {
            "colorbar": {
             "outlinewidth": 0,
             "ticks": ""
            },
            "colorscale": [
             [
              0,
              "#0d0887"
             ],
             [
              0.1111111111111111,
              "#46039f"
             ],
             [
              0.2222222222222222,
              "#7201a8"
             ],
             [
              0.3333333333333333,
              "#9c179e"
             ],
             [
              0.4444444444444444,
              "#bd3786"
             ],
             [
              0.5555555555555556,
              "#d8576b"
             ],
             [
              0.6666666666666666,
              "#ed7953"
             ],
             [
              0.7777777777777778,
              "#fb9f3a"
             ],
             [
              0.8888888888888888,
              "#fdca26"
             ],
             [
              1,
              "#f0f921"
             ]
            ],
            "type": "heatmapgl"
           }
          ],
          "histogram": [
           {
            "marker": {
             "colorbar": {
              "outlinewidth": 0,
              "ticks": ""
             }
            },
            "type": "histogram"
           }
          ],
          "histogram2d": [
           {
            "colorbar": {
             "outlinewidth": 0,
             "ticks": ""
            },
            "colorscale": [
             [
              0,
              "#0d0887"
             ],
             [
              0.1111111111111111,
              "#46039f"
             ],
             [
              0.2222222222222222,
              "#7201a8"
             ],
             [
              0.3333333333333333,
              "#9c179e"
             ],
             [
              0.4444444444444444,
              "#bd3786"
             ],
             [
              0.5555555555555556,
              "#d8576b"
             ],
             [
              0.6666666666666666,
              "#ed7953"
             ],
             [
              0.7777777777777778,
              "#fb9f3a"
             ],
             [
              0.8888888888888888,
              "#fdca26"
             ],
             [
              1,
              "#f0f921"
             ]
            ],
            "type": "histogram2d"
           }
          ],
          "histogram2dcontour": [
           {
            "colorbar": {
             "outlinewidth": 0,
             "ticks": ""
            },
            "colorscale": [
             [
              0,
              "#0d0887"
             ],
             [
              0.1111111111111111,
              "#46039f"
             ],
             [
              0.2222222222222222,
              "#7201a8"
             ],
             [
              0.3333333333333333,
              "#9c179e"
             ],
             [
              0.4444444444444444,
              "#bd3786"
             ],
             [
              0.5555555555555556,
              "#d8576b"
             ],
             [
              0.6666666666666666,
              "#ed7953"
             ],
             [
              0.7777777777777778,
              "#fb9f3a"
             ],
             [
              0.8888888888888888,
              "#fdca26"
             ],
             [
              1,
              "#f0f921"
             ]
            ],
            "type": "histogram2dcontour"
           }
          ],
          "mesh3d": [
           {
            "colorbar": {
             "outlinewidth": 0,
             "ticks": ""
            },
            "type": "mesh3d"
           }
          ],
          "parcoords": [
           {
            "line": {
             "colorbar": {
              "outlinewidth": 0,
              "ticks": ""
             }
            },
            "type": "parcoords"
           }
          ],
          "pie": [
           {
            "automargin": true,
            "type": "pie"
           }
          ],
          "scatter": [
           {
            "marker": {
             "colorbar": {
              "outlinewidth": 0,
              "ticks": ""
             }
            },
            "type": "scatter"
           }
          ],
          "scatter3d": [
           {
            "line": {
             "colorbar": {
              "outlinewidth": 0,
              "ticks": ""
             }
            },
            "marker": {
             "colorbar": {
              "outlinewidth": 0,
              "ticks": ""
             }
            },
            "type": "scatter3d"
           }
          ],
          "scattercarpet": [
           {
            "marker": {
             "colorbar": {
              "outlinewidth": 0,
              "ticks": ""
             }
            },
            "type": "scattercarpet"
           }
          ],
          "scattergeo": [
           {
            "marker": {
             "colorbar": {
              "outlinewidth": 0,
              "ticks": ""
             }
            },
            "type": "scattergeo"
           }
          ],
          "scattergl": [
           {
            "marker": {
             "colorbar": {
              "outlinewidth": 0,
              "ticks": ""
             }
            },
            "type": "scattergl"
           }
          ],
          "scattermapbox": [
           {
            "marker": {
             "colorbar": {
              "outlinewidth": 0,
              "ticks": ""
             }
            },
            "type": "scattermapbox"
           }
          ],
          "scatterpolar": [
           {
            "marker": {
             "colorbar": {
              "outlinewidth": 0,
              "ticks": ""
             }
            },
            "type": "scatterpolar"
           }
          ],
          "scatterpolargl": [
           {
            "marker": {
             "colorbar": {
              "outlinewidth": 0,
              "ticks": ""
             }
            },
            "type": "scatterpolargl"
           }
          ],
          "scatterternary": [
           {
            "marker": {
             "colorbar": {
              "outlinewidth": 0,
              "ticks": ""
             }
            },
            "type": "scatterternary"
           }
          ],
          "surface": [
           {
            "colorbar": {
             "outlinewidth": 0,
             "ticks": ""
            },
            "colorscale": [
             [
              0,
              "#0d0887"
             ],
             [
              0.1111111111111111,
              "#46039f"
             ],
             [
              0.2222222222222222,
              "#7201a8"
             ],
             [
              0.3333333333333333,
              "#9c179e"
             ],
             [
              0.4444444444444444,
              "#bd3786"
             ],
             [
              0.5555555555555556,
              "#d8576b"
             ],
             [
              0.6666666666666666,
              "#ed7953"
             ],
             [
              0.7777777777777778,
              "#fb9f3a"
             ],
             [
              0.8888888888888888,
              "#fdca26"
             ],
             [
              1,
              "#f0f921"
             ]
            ],
            "type": "surface"
           }
          ],
          "table": [
           {
            "cells": {
             "fill": {
              "color": "#EBF0F8"
             },
             "line": {
              "color": "white"
             }
            },
            "header": {
             "fill": {
              "color": "#C8D4E3"
             },
             "line": {
              "color": "white"
             }
            },
            "type": "table"
           }
          ]
         },
         "layout": {
          "annotationdefaults": {
           "arrowcolor": "#2a3f5f",
           "arrowhead": 0,
           "arrowwidth": 1
          },
          "autotypenumbers": "strict",
          "coloraxis": {
           "colorbar": {
            "outlinewidth": 0,
            "ticks": ""
           }
          },
          "colorscale": {
           "diverging": [
            [
             0,
             "#8e0152"
            ],
            [
             0.1,
             "#c51b7d"
            ],
            [
             0.2,
             "#de77ae"
            ],
            [
             0.3,
             "#f1b6da"
            ],
            [
             0.4,
             "#fde0ef"
            ],
            [
             0.5,
             "#f7f7f7"
            ],
            [
             0.6,
             "#e6f5d0"
            ],
            [
             0.7,
             "#b8e186"
            ],
            [
             0.8,
             "#7fbc41"
            ],
            [
             0.9,
             "#4d9221"
            ],
            [
             1,
             "#276419"
            ]
           ],
           "sequential": [
            [
             0,
             "#0d0887"
            ],
            [
             0.1111111111111111,
             "#46039f"
            ],
            [
             0.2222222222222222,
             "#7201a8"
            ],
            [
             0.3333333333333333,
             "#9c179e"
            ],
            [
             0.4444444444444444,
             "#bd3786"
            ],
            [
             0.5555555555555556,
             "#d8576b"
            ],
            [
             0.6666666666666666,
             "#ed7953"
            ],
            [
             0.7777777777777778,
             "#fb9f3a"
            ],
            [
             0.8888888888888888,
             "#fdca26"
            ],
            [
             1,
             "#f0f921"
            ]
           ],
           "sequentialminus": [
            [
             0,
             "#0d0887"
            ],
            [
             0.1111111111111111,
             "#46039f"
            ],
            [
             0.2222222222222222,
             "#7201a8"
            ],
            [
             0.3333333333333333,
             "#9c179e"
            ],
            [
             0.4444444444444444,
             "#bd3786"
            ],
            [
             0.5555555555555556,
             "#d8576b"
            ],
            [
             0.6666666666666666,
             "#ed7953"
            ],
            [
             0.7777777777777778,
             "#fb9f3a"
            ],
            [
             0.8888888888888888,
             "#fdca26"
            ],
            [
             1,
             "#f0f921"
            ]
           ]
          },
          "colorway": [
           "#636efa",
           "#EF553B",
           "#00cc96",
           "#ab63fa",
           "#FFA15A",
           "#19d3f3",
           "#FF6692",
           "#B6E880",
           "#FF97FF",
           "#FECB52"
          ],
          "font": {
           "color": "#2a3f5f"
          },
          "geo": {
           "bgcolor": "white",
           "lakecolor": "white",
           "landcolor": "#E5ECF6",
           "showlakes": true,
           "showland": true,
           "subunitcolor": "white"
          },
          "hoverlabel": {
           "align": "left"
          },
          "hovermode": "closest",
          "mapbox": {
           "style": "light"
          },
          "paper_bgcolor": "white",
          "plot_bgcolor": "#E5ECF6",
          "polar": {
           "angularaxis": {
            "gridcolor": "white",
            "linecolor": "white",
            "ticks": ""
           },
           "bgcolor": "#E5ECF6",
           "radialaxis": {
            "gridcolor": "white",
            "linecolor": "white",
            "ticks": ""
           }
          },
          "scene": {
           "xaxis": {
            "backgroundcolor": "#E5ECF6",
            "gridcolor": "white",
            "gridwidth": 2,
            "linecolor": "white",
            "showbackground": true,
            "ticks": "",
            "zerolinecolor": "white"
           },
           "yaxis": {
            "backgroundcolor": "#E5ECF6",
            "gridcolor": "white",
            "gridwidth": 2,
            "linecolor": "white",
            "showbackground": true,
            "ticks": "",
            "zerolinecolor": "white"
           },
           "zaxis": {
            "backgroundcolor": "#E5ECF6",
            "gridcolor": "white",
            "gridwidth": 2,
            "linecolor": "white",
            "showbackground": true,
            "ticks": "",
            "zerolinecolor": "white"
           }
          },
          "shapedefaults": {
           "line": {
            "color": "#2a3f5f"
           }
          },
          "ternary": {
           "aaxis": {
            "gridcolor": "white",
            "linecolor": "white",
            "ticks": ""
           },
           "baxis": {
            "gridcolor": "white",
            "linecolor": "white",
            "ticks": ""
           },
           "bgcolor": "#E5ECF6",
           "caxis": {
            "gridcolor": "white",
            "linecolor": "white",
            "ticks": ""
           }
          },
          "title": {
           "x": 0.05
          },
          "xaxis": {
           "automargin": true,
           "gridcolor": "white",
           "linecolor": "white",
           "ticks": "",
           "title": {
            "standoff": 15
           },
           "zerolinecolor": "white",
           "zerolinewidth": 2
          },
          "yaxis": {
           "automargin": true,
           "gridcolor": "white",
           "linecolor": "white",
           "ticks": "",
           "title": {
            "standoff": 15
           },
           "zerolinecolor": "white",
           "zerolinewidth": 2
          }
         }
        }
       }
      },
      "image/png": "[encoded data removed]",
      "text/html": [
       "<div>                            <div id=\"ebfdee87-0457-4007-a394-791e0633102b\" class=\"plotly-graph-div\" style=\"height:525px; width:100%;\"></div>            <script type=\"text/javascript\">                require([\"plotly\"], function(Plotly) {                    window.PLOTLYENV=window.PLOTLYENV || {};                                    if (document.getElementById(\"ebfdee87-0457-4007-a394-791e0633102b\")) {                    Plotly.newPlot(                        \"ebfdee87-0457-4007-a394-791e0633102b\",                        [{\"colorscale\": [[0.0, \"#440154\"], [0.1111111111111111, \"#482878\"], [0.2222222222222222, \"#3e4989\"], [0.3333333333333333, \"#31688e\"], [0.4444444444444444, \"#26828e\"], [0.5555555555555556, \"#1f9e89\"], [0.6666666666666666, \"#35b779\"], [0.7777777777777778, \"#6ece58\"], [0.8888888888888888, \"#b5de2b\"], [1.0, \"#fde725\"]], \"intensity\": [0.008413624949753284, 0.09907557815313339, 0.0, 0.0, 0.12892460823059082, 0.0, 0.02643420733511448, 0.175375297665596, 0.0, 0.0, 0.1903250813484192, 0.0, 0.0, 0.0, 0.0, 0.0, 0.0, 0.0, 0.0, 0.05729870870709419, 0.13998667895793915, 0.0021876574028283358, 0.0, 0.0063716652803123, 0.0, 0.14002016186714172, 0.0, 0.0, 0.16869774460792542, 0.02496776543557644, 0.09027879685163498, 0.0, 0.07232151180505753, 0.17913857102394104, 0.0, 0.15941648185253143, 0.02532520331442356, 0.12234248965978622, 0.0, 0.032567739486694336, 0.0, 0.0, 0.0, 0.16592490673065186, 0.0, 0.08970081806182861, 0.1149912104010582, 0.0, 0.02509327046573162, 0.0, 0.10591473430395126, 0.05891108512878418, 0.0, 0.0, 0.1535043716430664, 0.0, 0.0, 0.05882453918457031, 0.072544626891613, 0.0, 0.02551860921084881, 0.06603842228651047, 0.0, 0.0, 0.0, 0.15004561841487885, 0.0, 0.06764018535614014, 0.0, 0.0, 0.059085991233587265, 0.06323318928480148, 0.1614985466003418, 0.00032017231569625437, 0.1644069403409958, 0.0, 0.0, 0.10296471416950226, 0.054378438740968704, 0.0, 0.0, 0.0, 0.0, 0.0, 0.19784775376319885, 0.144596129655838, 0.0, 0.13830895721912384, 0.07224740833044052, 0.0, 0.0, 0.0, 0.005662608426064253, 0.002756500383839011, 0.04320960119366646, 0.08193309605121613, 0.0, 0.0, 0.0, 0.0], \"opacity\": 1.0, \"type\": \"mesh3d\", \"x\": [0.0, 0.25, 0.0, -0.25, 1.0, 1.25, 1.0, 0.75, 2.0, 2.25, 2.0, 1.75, 3.0, 3.25, 3.0, 2.75, 4.0, 4.25, 4.0, 3.75, 0.0, 0.25, 0.0, -0.25, 1.0, 1.25, 1.0, 0.75, 2.0, 2.25, 2.0, 1.75, 3.0, 3.25, 3.0, 2.75, 4.0, 4.25, 4.0, 3.75, 0.0, 0.25, 0.0, -0.25, 1.0, 1.25, 1.0, 0.75, 2.0, 2.25, 2.0, 1.75, 3.0, 3.25, 3.0, 2.75, 4.0, 4.25, 4.0, 3.75, 0.0, 0.25, 0.0, -0.25, 1.0, 1.25, 1.0, 0.75, 2.0, 2.25, 2.0, 1.75, 3.0, 3.25, 3.0, 2.75, 4.0, 4.25, 4.0, 3.75, 0.0, 0.25, 0.0, -0.25, 1.0, 1.25, 1.0, 0.75, 2.0, 2.25, 2.0, 1.75, 3.0, 3.25, 3.0, 2.75, 4.0, 4.25, 4.0, 3.75], \"y\": [-0.25, 0.0, 0.25, 0.0, -0.25, 0.0, 0.25, 0.0, -0.25, 0.0, 0.25, 0.0, -0.25, 0.0, 0.25, 0.0, -0.25, 0.0, 0.25, 0.0, 0.75, 1.0, 1.25, 1.0, 0.75, 1.0, 1.25, 1.0, 0.75, 1.0, 1.25, 1.0, 0.75, 1.0, 1.25, 1.0, 0.75, 1.0, 1.25, 1.0, 1.75, 2.0, 2.25, 2.0, 1.75, 2.0, 2.25, 2.0, 1.75, 2.0, 2.25, 2.0, 1.75, 2.0, 2.25, 2.0, 1.75, 2.0, 2.25, 2.0, 2.75, 3.0, 3.25, 3.0, 2.75, 3.0, 3.25, 3.0, 2.75, 3.0, 3.25, 3.0, 2.75, 3.0, 3.25, 3.0, 2.75, 3.0, 3.25, 3.0, 3.75, 4.0, 4.25, 4.0, 3.75, 4.0, 4.25, 4.0, 3.75, 4.0, 4.25, 4.0, 3.75, 4.0, 4.25, 4.0, 3.75, 4.0, 4.25, 4.0], \"z\": [0.008413624949753284, 0.09907557815313339, 0.0, 0.0, 0.12892460823059082, 0.0, 0.02643420733511448, 0.175375297665596, 0.0, 0.0, 0.1903250813484192, 0.0, 0.0, 0.0, 0.0, 0.0, 0.0, 0.0, 0.0, 0.05729870870709419, 0.13998667895793915, 0.0021876574028283358, 0.0, 0.0063716652803123, 0.0, 0.14002016186714172, 0.0, 0.0, 0.16869774460792542, 0.02496776543557644, 0.09027879685163498, 0.0, 0.07232151180505753, 0.17913857102394104, 0.0, 0.15941648185253143, 0.02532520331442356, 0.12234248965978622, 0.0, 0.032567739486694336, 0.0, 0.0, 0.0, 0.16592490673065186, 0.0, 0.08970081806182861, 0.1149912104010582, 0.0, 0.02509327046573162, 0.0, 0.10591473430395126, 0.05891108512878418, 0.0, 0.0, 0.1535043716430664, 0.0, 0.0, 0.05882453918457031, 0.072544626891613, 0.0, 0.02551860921084881, 0.06603842228651047, 0.0, 0.0, 0.0, 0.15004561841487885, 0.0, 0.06764018535614014, 0.0, 0.0, 0.059085991233587265, 0.06323318928480148, 0.1614985466003418, 0.00032017231569625437, 0.1644069403409958, 0.0, 0.0, 0.10296471416950226, 0.054378438740968704, 0.0, 0.0, 0.0, 0.0, 0.0, 0.19784775376319885, 0.144596129655838, 0.0, 0.13830895721912384, 0.07224740833044052, 0.0, 0.0, 0.0, 0.005662608426064253, 0.002756500383839011, 0.04320960119366646, 0.08193309605121613, 0.0, 0.0, 0.0, 0.0]}],                        {\"template\": {\"data\": {\"bar\": [{\"error_x\": {\"color\": \"#2a3f5f\"}, \"error_y\": {\"color\": \"#2a3f5f\"}, \"marker\": {\"line\": {\"color\": \"#E5ECF6\", \"width\": 0.5}}, \"type\": \"bar\"}], \"barpolar\": [{\"marker\": {\"line\": {\"color\": \"#E5ECF6\", \"width\": 0.5}}, \"type\": \"barpolar\"}], \"carpet\": [{\"aaxis\": {\"endlinecolor\": \"#2a3f5f\", \"gridcolor\": \"white\", \"linecolor\": \"white\", \"minorgridcolor\": \"white\", \"startlinecolor\": \"#2a3f5f\"}, \"baxis\": {\"endlinecolor\": \"#2a3f5f\", \"gridcolor\": \"white\", \"linecolor\": \"white\", \"minorgridcolor\": \"white\", \"startlinecolor\": \"#2a3f5f\"}, \"type\": \"carpet\"}], \"choropleth\": [{\"colorbar\": {\"outlinewidth\": 0, \"ticks\": \"\"}, \"type\": \"choropleth\"}], \"contour\": [{\"colorbar\": {\"outlinewidth\": 0, \"ticks\": \"\"}, \"colorscale\": [[0.0, \"#0d0887\"], [0.1111111111111111, \"#46039f\"], [0.2222222222222222, \"#7201a8\"], [0.3333333333333333, \"#9c179e\"], [0.4444444444444444, \"#bd3786\"], [0.5555555555555556, \"#d8576b\"], [0.6666666666666666, \"#ed7953\"], [0.7777777777777778, \"#fb9f3a\"], [0.8888888888888888, \"#fdca26\"], [1.0, \"#f0f921\"]], \"type\": \"contour\"}], \"contourcarpet\": [{\"colorbar\": {\"outlinewidth\": 0, \"ticks\": \"\"}, \"type\": \"contourcarpet\"}], \"heatmap\": [{\"colorbar\": {\"outlinewidth\": 0, \"ticks\": \"\"}, \"colorscale\": [[0.0, \"#0d0887\"], [0.1111111111111111, \"#46039f\"], [0.2222222222222222, \"#7201a8\"], [0.3333333333333333, \"#9c179e\"], [0.4444444444444444, \"#bd3786\"], [0.5555555555555556, \"#d8576b\"], [0.6666666666666666, \"#ed7953\"], [0.7777777777777778, \"#fb9f3a\"], [0.8888888888888888, \"#fdca26\"], [1.0, \"#f0f921\"]], \"type\": \"heatmap\"}], \"heatmapgl\": [{\"colorbar\": {\"outlinewidth\": 0, \"ticks\": \"\"}, \"colorscale\": [[0.0, \"#0d0887\"], [0.1111111111111111, \"#46039f\"], [0.2222222222222222, \"#7201a8\"], [0.3333333333333333, \"#9c179e\"], [0.4444444444444444, \"#bd3786\"], [0.5555555555555556, \"#d8576b\"], [0.6666666666666666, \"#ed7953\"], [0.7777777777777778, \"#fb9f3a\"], [0.8888888888888888, \"#fdca26\"], [1.0, \"#f0f921\"]], \"type\": \"heatmapgl\"}], \"histogram\": [{\"marker\": {\"colorbar\": {\"outlinewidth\": 0, \"ticks\": \"\"}}, \"type\": \"histogram\"}], \"histogram2d\": [{\"colorbar\": {\"outlinewidth\": 0, \"ticks\": \"\"}, \"colorscale\": [[0.0, \"#0d0887\"], [0.1111111111111111, \"#46039f\"], [0.2222222222222222, \"#7201a8\"], [0.3333333333333333, \"#9c179e\"], [0.4444444444444444, \"#bd3786\"], [0.5555555555555556, \"#d8576b\"], [0.6666666666666666, \"#ed7953\"], [0.7777777777777778, \"#fb9f3a\"], [0.8888888888888888, \"#fdca26\"], [1.0, \"#f0f921\"]], \"type\": \"histogram2d\"}], \"histogram2dcontour\": [{\"colorbar\": {\"outlinewidth\": 0, \"ticks\": \"\"}, \"colorscale\": [[0.0, \"#0d0887\"], [0.1111111111111111, \"#46039f\"], [0.2222222222222222, \"#7201a8\"], [0.3333333333333333, \"#9c179e\"], [0.4444444444444444, \"#bd3786\"], [0.5555555555555556, \"#d8576b\"], [0.6666666666666666, \"#ed7953\"], [0.7777777777777778, \"#fb9f3a\"], [0.8888888888888888, \"#fdca26\"], [1.0, \"#f0f921\"]], \"type\": \"histogram2dcontour\"}], \"mesh3d\": [{\"colorbar\": {\"outlinewidth\": 0, \"ticks\": \"\"}, \"type\": \"mesh3d\"}], \"parcoords\": [{\"line\": {\"colorbar\": {\"outlinewidth\": 0, \"ticks\": \"\"}}, \"type\": \"parcoords\"}], \"pie\": [{\"automargin\": true, \"type\": \"pie\"}], \"scatter\": [{\"marker\": {\"colorbar\": {\"outlinewidth\": 0, \"ticks\": \"\"}}, \"type\": \"scatter\"}], \"scatter3d\": [{\"line\": {\"colorbar\": {\"outlinewidth\": 0, \"ticks\": \"\"}}, \"marker\": {\"colorbar\": {\"outlinewidth\": 0, \"ticks\": \"\"}}, \"type\": \"scatter3d\"}], \"scattercarpet\": [{\"marker\": {\"colorbar\": {\"outlinewidth\": 0, \"ticks\": \"\"}}, \"type\": \"scattercarpet\"}], \"scattergeo\": [{\"marker\": {\"colorbar\": {\"outlinewidth\": 0, \"ticks\": \"\"}}, \"type\": \"scattergeo\"}], \"scattergl\": [{\"marker\": {\"colorbar\": {\"outlinewidth\": 0, \"ticks\": \"\"}}, \"type\": \"scattergl\"}], \"scattermapbox\": [{\"marker\": {\"colorbar\": {\"outlinewidth\": 0, \"ticks\": \"\"}}, \"type\": \"scattermapbox\"}], \"scatterpolar\": [{\"marker\": {\"colorbar\": {\"outlinewidth\": 0, \"ticks\": \"\"}}, \"type\": \"scatterpolar\"}], \"scatterpolargl\": [{\"marker\": {\"colorbar\": {\"outlinewidth\": 0, \"ticks\": \"\"}}, \"type\": \"scatterpolargl\"}], \"scatterternary\": [{\"marker\": {\"colorbar\": {\"outlinewidth\": 0, \"ticks\": \"\"}}, \"type\": \"scatterternary\"}], \"surface\": [{\"colorbar\": {\"outlinewidth\": 0, \"ticks\": \"\"}, \"colorscale\": [[0.0, \"#0d0887\"], [0.1111111111111111, \"#46039f\"], [0.2222222222222222, \"#7201a8\"], [0.3333333333333333, \"#9c179e\"], [0.4444444444444444, \"#bd3786\"], [0.5555555555555556, \"#d8576b\"], [0.6666666666666666, \"#ed7953\"], [0.7777777777777778, \"#fb9f3a\"], [0.8888888888888888, \"#fdca26\"], [1.0, \"#f0f921\"]], \"type\": \"surface\"}], \"table\": [{\"cells\": {\"fill\": {\"color\": \"#EBF0F8\"}, \"line\": {\"color\": \"white\"}}, \"header\": {\"fill\": {\"color\": \"#C8D4E3\"}, \"line\": {\"color\": \"white\"}}, \"type\": \"table\"}]}, \"layout\": {\"annotationdefaults\": {\"arrowcolor\": \"#2a3f5f\", \"arrowhead\": 0, \"arrowwidth\": 1}, \"autotypenumbers\": \"strict\", \"coloraxis\": {\"colorbar\": {\"outlinewidth\": 0, \"ticks\": \"\"}}, \"colorscale\": {\"diverging\": [[0, \"#8e0152\"], [0.1, \"#c51b7d\"], [0.2, \"#de77ae\"], [0.3, \"#f1b6da\"], [0.4, \"#fde0ef\"], [0.5, \"#f7f7f7\"], [0.6, \"#e6f5d0\"], [0.7, \"#b8e186\"], [0.8, \"#7fbc41\"], [0.9, \"#4d9221\"], [1, \"#276419\"]], \"sequential\": [[0.0, \"#0d0887\"], [0.1111111111111111, \"#46039f\"], [0.2222222222222222, \"#7201a8\"], [0.3333333333333333, \"#9c179e\"], [0.4444444444444444, \"#bd3786\"], [0.5555555555555556, \"#d8576b\"], [0.6666666666666666, \"#ed7953\"], [0.7777777777777778, \"#fb9f3a\"], [0.8888888888888888, \"#fdca26\"], [1.0, \"#f0f921\"]], \"sequentialminus\": [[0.0, \"#0d0887\"], [0.1111111111111111, \"#46039f\"], [0.2222222222222222, \"#7201a8\"], [0.3333333333333333, \"#9c179e\"], [0.4444444444444444, \"#bd3786\"], [0.5555555555555556, \"#d8576b\"], [0.6666666666666666, \"#ed7953\"], [0.7777777777777778, \"#fb9f3a\"], [0.8888888888888888, \"#fdca26\"], [1.0, \"#f0f921\"]]}, \"colorway\": [\"#636efa\", \"#EF553B\", \"#00cc96\", \"#ab63fa\", \"#FFA15A\", \"#19d3f3\", \"#FF6692\", \"#B6E880\", \"#FF97FF\", \"#FECB52\"], \"font\": {\"color\": \"#2a3f5f\"}, \"geo\": {\"bgcolor\": \"white\", \"lakecolor\": \"white\", \"landcolor\": \"#E5ECF6\", \"showlakes\": true, \"showland\": true, \"subunitcolor\": \"white\"}, \"hoverlabel\": {\"align\": \"left\"}, \"hovermode\": \"closest\", \"mapbox\": {\"style\": \"light\"}, \"paper_bgcolor\": \"white\", \"plot_bgcolor\": \"#E5ECF6\", \"polar\": {\"angularaxis\": {\"gridcolor\": \"white\", \"linecolor\": \"white\", \"ticks\": \"\"}, \"bgcolor\": \"#E5ECF6\", \"radialaxis\": {\"gridcolor\": \"white\", \"linecolor\": \"white\", \"ticks\": \"\"}}, \"scene\": {\"xaxis\": {\"backgroundcolor\": \"#E5ECF6\", \"gridcolor\": \"white\", \"gridwidth\": 2, \"linecolor\": \"white\", \"showbackground\": true, \"ticks\": \"\", \"zerolinecolor\": \"white\"}, \"yaxis\": {\"backgroundcolor\": \"#E5ECF6\", \"gridcolor\": \"white\", \"gridwidth\": 2, \"linecolor\": \"white\", \"showbackground\": true, \"ticks\": \"\", \"zerolinecolor\": \"white\"}, \"zaxis\": {\"backgroundcolor\": \"#E5ECF6\", \"gridcolor\": \"white\", \"gridwidth\": 2, \"linecolor\": \"white\", \"showbackground\": true, \"ticks\": \"\", \"zerolinecolor\": \"white\"}}, \"shapedefaults\": {\"line\": {\"color\": \"#2a3f5f\"}}, \"ternary\": {\"aaxis\": {\"gridcolor\": \"white\", \"linecolor\": \"white\", \"ticks\": \"\"}, \"baxis\": {\"gridcolor\": \"white\", \"linecolor\": \"white\", \"ticks\": \"\"}, \"bgcolor\": \"#E5ECF6\", \"caxis\": {\"gridcolor\": \"white\", \"linecolor\": \"white\", \"ticks\": \"\"}}, \"title\": {\"x\": 0.05}, \"xaxis\": {\"automargin\": true, \"gridcolor\": \"white\", \"linecolor\": \"white\", \"ticks\": \"\", \"title\": {\"standoff\": 15}, \"zerolinecolor\": \"white\", \"zerolinewidth\": 2}, \"yaxis\": {\"automargin\": true, \"gridcolor\": \"white\", \"linecolor\": \"white\", \"ticks\": \"\", \"title\": {\"standoff\": 15}, \"zerolinecolor\": \"white\", \"zerolinewidth\": 2}}}},                        {\"responsive\": true}                    ).then(function(){\n",
       "                            \n",
       "var gd = document.getElementById('ebfdee87-0457-4007-a394-791e0633102b');\n",
       "var x = new MutationObserver(function (mutations, observer) {{\n",
       "        var display = window.getComputedStyle(gd).display;\n",
       "        if (!display || display === 'none') {{\n",
       "            console.log([gd, 'removed!']);\n",
       "            Plotly.purge(gd);\n",
       "            observer.disconnect();\n",
       "        }}\n",
       "}});\n",
       "\n",
       "// Listen for the removal of the full notebook cells\n",
       "var notebookContainer = gd.closest('#notebook-container');\n",
       "if (notebookContainer) {{\n",
       "    x.observe(notebookContainer, {childList: true});\n",
       "}}\n",
       "\n",
       "// Listen for the clearing of the current output cell\n",
       "var outputEl = gd.closest('.output');\n",
       "if (outputEl) {{\n",
       "    x.observe(outputEl, {childList: true});\n",
       "}}\n",
       "\n",
       "                        })                };                });            </script>        </div>"
      ]
     },
     "metadata": {},
     "output_type": "display_data"
    }
   ],
   "source": [
    "# fig = go.Figure(data=[go.Mesh3d(x=X, y=Y, z=R, opacity=1.0, intensity=R, colorscale='Viridis')])\n",
    "fig = go.Figure(data=[go.Mesh3d(x=X, y=Y, z=G, opacity=1.0, intensity=G, colorscale='Viridis')])\n",
    "\n",
    "print(G)\n",
    "\n",
    "fig.show()"
   ]
  },
  {
   "cell_type": "code",
   "execution_count": null,
   "id": "mobile-surgeon",
   "metadata": {},
   "outputs": [],
   "source": []
  }
 ],
 "metadata": {
  "kernelspec": {
   "display_name": "ml",
   "language": "python",
   "name": "ml"
  },
  "language_info": {
   "codemirror_mode": {
    "name": "ipython",
    "version": 3
   },
   "file_extension": ".py",
   "mimetype": "text/x-python",
   "name": "python",
   "nbconvert_exporter": "python",
   "pygments_lexer": "ipython3",
   "version": "3.8.8"
  }
 },
 "nbformat": 4,
 "nbformat_minor": 5
}
