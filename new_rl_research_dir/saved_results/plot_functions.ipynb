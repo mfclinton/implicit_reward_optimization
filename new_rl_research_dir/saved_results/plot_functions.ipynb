{
 "cells": [
  {
   "cell_type": "code",
   "execution_count": 1,
   "id": "white-calculation",
   "metadata": {},
   "outputs": [],
   "source": [
    "import sys\n",
    "sys.path.insert(0,'..')"
   ]
  },
  {
   "cell_type": "code",
   "execution_count": 53,
   "id": "thrown-south",
   "metadata": {},
   "outputs": [],
   "source": [
    "import numpy as np\n",
    "import pandas as pd\n",
    "import matplotlib as plt\n",
    "import glob\n",
    "from scipy import stats\n",
    "from Src.Utils.utils import *\n",
    "from Environments.Gridworld_687 import Gridworld_687\n",
    "from Src.Utils.Basis import OneHot_Basis\n",
    "from Src.Algorithms.Reward.RewardFunc import RewardFunc\n",
    "from Src.Algorithms.Gamma.GammaFunc import GammaFunc\n",
    "import plotly.graph_objects as go"
   ]
  },
  {
   "cell_type": "code",
   "execution_count": 24,
   "id": "excessive-teacher",
   "metadata": {},
   "outputs": [
    {
     "name": "stdout",
     "output_type": "stream",
     "text": [
      "Env Type  GW\n"
     ]
    }
   ],
   "source": [
    "# GW, or MC\n",
    "env_type = \"GW\"\n",
    "print(\"Env Type \", env_type)"
   ]
  },
  {
   "cell_type": "code",
   "execution_count": 34,
   "id": "ranking-uruguay",
   "metadata": {},
   "outputs": [],
   "source": [
    "class WeakConfig:\n",
    "    def __init__(self):\n",
    "        self.env = None\n",
    "        self.basis = None"
   ]
  },
  {
   "cell_type": "code",
   "execution_count": 81,
   "id": "based-reducing",
   "metadata": {},
   "outputs": [
    {
     "name": "stdout",
     "output_type": "stream",
     "text": [
      "Gridworld\n",
      "INITIALIZE REWARD FUNCTION\n",
      "INITIALIZE REWARD FUNCTION\n"
     ]
    }
   ],
   "source": [
    "dir_path = \"our_method/models\"\n",
    "aux_id = 1\n",
    "model_percentage = 1\n",
    "if env_type == \"GW\":\n",
    "    print(\"Gridworld\")    \n",
    "    env = Gridworld_687()\n",
    "    \n",
    "    config = WeakConfig()\n",
    "    config.env = env\n",
    "    \n",
    "    \n",
    "    basis = OneHot_Basis()\n",
    "    basis.init(config)\n",
    "    config.basis = basis\n",
    "    \n",
    "    width = env.width\n",
    "    \n",
    "    path = f\"{dir_path}/{aux_id}\"\n",
    "    r_path = f\"{path}/Reward_Model_1\"\n",
    "    g_path = f\"{path}/Gamma_Model_1\"\n",
    "    \n",
    "    r_func = RewardFunc()\n",
    "    r_func.init(config)\n",
    "    g_func = RewardFunc()\n",
    "    g_func.init(config)\n",
    "    \n",
    "    r_func.load_state_dict(torch.load(r_path))\n",
    "    g_func.load_state_dict(torch.load(g_path))\n",
    "    \n",
    "    X = []\n",
    "    Y = []\n",
    "    R = []\n",
    "    G = []\n",
    "    \n",
    "    offsets = env.action_state_offset\n",
    "    scale = 1/4\n",
    "    for key in offsets.keys():\n",
    "        offsets[key] = offsets[key].astype(float) * scale\n",
    "\n",
    "    \n",
    "    for y in range(width):\n",
    "        for x in range(width):\n",
    "            pos = torch.tensor([[x,y]])\n",
    "            onehot = basis(pos)\n",
    "            for a_idx in range(env.action_space.n):\n",
    "                a = torch.zeros(1,env.action_space.n)\n",
    "                a[0,a_idx] = 1\n",
    "                \n",
    "                r = r_func(pos, onehot, action = a)\n",
    "                g = g_func(pos, onehot, action = a)\n",
    "                \n",
    "                cur_offsets = offsets[a_idx]\n",
    "                \n",
    "                X.append(x + cur_offsets[0])\n",
    "                Y.append(y + cur_offsets[1])\n",
    "                R.append(r[0].detach().numpy())\n",
    "                G.append(g[0].detach().numpy())\n",
    "                \n",
    "            \n",
    "            \n",
    "            \n"
   ]
  },
  {
   "cell_type": "code",
   "execution_count": null,
   "id": "inclusive-document",
   "metadata": {},
   "outputs": [],
   "source": []
  },
  {
   "cell_type": "code",
   "execution_count": 82,
   "id": "loving-actress",
   "metadata": {},
   "outputs": [
    {
     "data": {
      "application/vnd.plotly.v1+json": {
       "config": {
        "plotlyServerURL": "https://plot.ly"
       },
       "data": [
        {
         "colorscale": [
          [
           0,
           "#440154"
          ],
          [
           0.1111111111111111,
           "#482878"
          ],
          [
           0.2222222222222222,
           "#3e4989"
          ],
          [
           0.3333333333333333,
           "#31688e"
          ],
          [
           0.4444444444444444,
           "#26828e"
          ],
          [
           0.5555555555555556,
           "#1f9e89"
          ],
          [
           0.6666666666666666,
           "#35b779"
          ],
          [
           0.7777777777777778,
           "#6ece58"
          ],
          [
           0.8888888888888888,
           "#b5de2b"
          ],
          [
           1,
           "#fde725"
          ]
         ],
         "intensity": [
          -0.0336691290140152,
          0.22296643257141113,
          0.12244884669780731,
          0.02806035615503788,
          -0.0817449763417244,
          0.48747846484184265,
          0.01262428518384695,
          -0.14385750889778137,
          -0.5475162267684937,
          0.6578136682510376,
          -0.4550817012786865,
          -0.5548612475395203,
          -0.3071756958961487,
          0.3901025950908661,
          -0.014739204198122025,
          -0.5185596346855164,
          -0.3511684536933899,
          -0.2813079059123993,
          0.36646148562431335,
          -0.25113290548324585,
          -0.04698823764920235,
          0.1470758318901062,
          -0.052576132118701935,
          -0.1762901246547699,
          -0.03629133105278015,
          0.5477379560470581,
          -0.4005260467529297,
          -0.27064159512519836,
          -0.406023770570755,
          0.5343965291976929,
          -0.06371127814054489,
          -0.16024696826934814,
          -0.2131987363100052,
          0.19043394923210144,
          0.3692534565925598,
          -0.6635563373565674,
          -0.47168076038360596,
          -0.35256054997444153,
          0.42248964309692383,
          -0.21853211522102356,
          0.025356851518154144,
          -0.061108265072107315,
          -0.13572712242603302,
          0.11936011165380478,
          0.16630063951015472,
          -0.11868184059858322,
          0.02765835076570511,
          -0.01833408698439598,
          0,
          0,
          0,
          0,
          -0.49076104164123535,
          0.4271469712257385,
          0.302619069814682,
          -0.3466036319732666,
          -0.3695213198661804,
          -0.25152894854545593,
          0.41188696026802063,
          -0.49998071789741516,
          -0.11281988769769669,
          0.12539717555046082,
          -0.14246459305286407,
          -0.10005195438861847,
          -0.05235352739691734,
          0.1510026901960373,
          0.052299607545137405,
          -0.14004164934158325,
          0,
          0,
          0,
          0,
          -0.38785165548324585,
          0.1544840931892395,
          0.29924291372299194,
          -0.3587063252925873,
          -0.3399345576763153,
          -0.29315513372421265,
          0.3780665695667267,
          -0.3500686585903168,
          0.2281636893749237,
          -0.03666297346353531,
          -0.12185723334550858,
          0.09478195756673813,
          -0.1909262239933014,
          0.08912037312984467,
          0.12637823820114136,
          0.0028137057088315487,
          -0.14150549471378326,
          0.0354362316429615,
          0.21502521634101868,
          -0.08543230593204498,
          -0.21886378526687622,
          0.16761961579322815,
          -0.3070726990699768,
          -0.22320418059825897,
          0,
          0,
          0,
          0
         ],
         "opacity": 0.9,
         "type": "mesh3d",
         "x": [
          0,
          0.25,
          0,
          -0.25,
          1,
          1.25,
          1,
          0.75,
          2,
          2.25,
          2,
          1.75,
          3,
          3.25,
          3,
          2.75,
          4,
          4.25,
          4,
          3.75,
          0,
          0.25,
          0,
          -0.25,
          1,
          1.25,
          1,
          0.75,
          2,
          2.25,
          2,
          1.75,
          3,
          3.25,
          3,
          2.75,
          4,
          4.25,
          4,
          3.75,
          0,
          0.25,
          0,
          -0.25,
          1,
          1.25,
          1,
          0.75,
          2,
          2.25,
          2,
          1.75,
          3,
          3.25,
          3,
          2.75,
          4,
          4.25,
          4,
          3.75,
          0,
          0.25,
          0,
          -0.25,
          1,
          1.25,
          1,
          0.75,
          2,
          2.25,
          2,
          1.75,
          3,
          3.25,
          3,
          2.75,
          4,
          4.25,
          4,
          3.75,
          0,
          0.25,
          0,
          -0.25,
          1,
          1.25,
          1,
          0.75,
          2,
          2.25,
          2,
          1.75,
          3,
          3.25,
          3,
          2.75,
          4,
          4.25,
          4,
          3.75
         ],
         "y": [
          -0.25,
          0,
          0.25,
          0,
          -0.25,
          0,
          0.25,
          0,
          -0.25,
          0,
          0.25,
          0,
          -0.25,
          0,
          0.25,
          0,
          -0.25,
          0,
          0.25,
          0,
          0.75,
          1,
          1.25,
          1,
          0.75,
          1,
          1.25,
          1,
          0.75,
          1,
          1.25,
          1,
          0.75,
          1,
          1.25,
          1,
          0.75,
          1,
          1.25,
          1,
          1.75,
          2,
          2.25,
          2,
          1.75,
          2,
          2.25,
          2,
          1.75,
          2,
          2.25,
          2,
          1.75,
          2,
          2.25,
          2,
          1.75,
          2,
          2.25,
          2,
          2.75,
          3,
          3.25,
          3,
          2.75,
          3,
          3.25,
          3,
          2.75,
          3,
          3.25,
          3,
          2.75,
          3,
          3.25,
          3,
          2.75,
          3,
          3.25,
          3,
          3.75,
          4,
          4.25,
          4,
          3.75,
          4,
          4.25,
          4,
          3.75,
          4,
          4.25,
          4,
          3.75,
          4,
          4.25,
          4,
          3.75,
          4,
          4.25,
          4
         ],
         "z": [
          -0.0336691290140152,
          0.22296643257141113,
          0.12244884669780731,
          0.02806035615503788,
          -0.0817449763417244,
          0.48747846484184265,
          0.01262428518384695,
          -0.14385750889778137,
          -0.5475162267684937,
          0.6578136682510376,
          -0.4550817012786865,
          -0.5548612475395203,
          -0.3071756958961487,
          0.3901025950908661,
          -0.014739204198122025,
          -0.5185596346855164,
          -0.3511684536933899,
          -0.2813079059123993,
          0.36646148562431335,
          -0.25113290548324585,
          -0.04698823764920235,
          0.1470758318901062,
          -0.052576132118701935,
          -0.1762901246547699,
          -0.03629133105278015,
          0.5477379560470581,
          -0.4005260467529297,
          -0.27064159512519836,
          -0.406023770570755,
          0.5343965291976929,
          -0.06371127814054489,
          -0.16024696826934814,
          -0.2131987363100052,
          0.19043394923210144,
          0.3692534565925598,
          -0.6635563373565674,
          -0.47168076038360596,
          -0.35256054997444153,
          0.42248964309692383,
          -0.21853211522102356,
          0.025356851518154144,
          -0.061108265072107315,
          -0.13572712242603302,
          0.11936011165380478,
          0.16630063951015472,
          -0.11868184059858322,
          0.02765835076570511,
          -0.01833408698439598,
          0,
          0,
          0,
          0,
          -0.49076104164123535,
          0.4271469712257385,
          0.302619069814682,
          -0.3466036319732666,
          -0.3695213198661804,
          -0.25152894854545593,
          0.41188696026802063,
          -0.49998071789741516,
          -0.11281988769769669,
          0.12539717555046082,
          -0.14246459305286407,
          -0.10005195438861847,
          -0.05235352739691734,
          0.1510026901960373,
          0.052299607545137405,
          -0.14004164934158325,
          0,
          0,
          0,
          0,
          -0.38785165548324585,
          0.1544840931892395,
          0.29924291372299194,
          -0.3587063252925873,
          -0.3399345576763153,
          -0.29315513372421265,
          0.3780665695667267,
          -0.3500686585903168,
          0.2281636893749237,
          -0.03666297346353531,
          -0.12185723334550858,
          0.09478195756673813,
          -0.1909262239933014,
          0.08912037312984467,
          0.12637823820114136,
          0.0028137057088315487,
          -0.14150549471378326,
          0.0354362316429615,
          0.21502521634101868,
          -0.08543230593204498,
          -0.21886378526687622,
          0.16761961579322815,
          -0.3070726990699768,
          -0.22320418059825897,
          0,
          0,
          0,
          0
         ]
        }
       ],
       "layout": {
        "autosize": true,
        "scene": {
         "aspectmode": "auto",
         "aspectratio": {
          "x": 1.5045132718078273,
          "y": 1.5045132718078273,
          "z": 0.44178193564564994
         },
         "camera": {
          "center": {
           "x": 0,
           "y": 0,
           "z": 0
          },
          "eye": {
           "x": -1.026933750847072,
           "y": 0.7709519164658776,
           "z": 0.526898790800001
          },
          "projection": {
           "type": "perspective"
          },
          "up": {
           "x": 0,
           "y": 0,
           "z": 1
          }
         }
        },
        "template": {
         "data": {
          "bar": [
           {
            "error_x": {
             "color": "#2a3f5f"
            },
            "error_y": {
             "color": "#2a3f5f"
            },
            "marker": {
             "line": {
              "color": "#E5ECF6",
              "width": 0.5
             }
            },
            "type": "bar"
           }
          ],
          "barpolar": [
           {
            "marker": {
             "line": {
              "color": "#E5ECF6",
              "width": 0.5
             }
            },
            "type": "barpolar"
           }
          ],
          "carpet": [
           {
            "aaxis": {
             "endlinecolor": "#2a3f5f",
             "gridcolor": "white",
             "linecolor": "white",
             "minorgridcolor": "white",
             "startlinecolor": "#2a3f5f"
            },
            "baxis": {
             "endlinecolor": "#2a3f5f",
             "gridcolor": "white",
             "linecolor": "white",
             "minorgridcolor": "white",
             "startlinecolor": "#2a3f5f"
            },
            "type": "carpet"
           }
          ],
          "choropleth": [
           {
            "colorbar": {
             "outlinewidth": 0,
             "ticks": ""
            },
            "type": "choropleth"
           }
          ],
          "contour": [
           {
            "colorbar": {
             "outlinewidth": 0,
             "ticks": ""
            },
            "colorscale": [
             [
              0,
              "#0d0887"
             ],
             [
              0.1111111111111111,
              "#46039f"
             ],
             [
              0.2222222222222222,
              "#7201a8"
             ],
             [
              0.3333333333333333,
              "#9c179e"
             ],
             [
              0.4444444444444444,
              "#bd3786"
             ],
             [
              0.5555555555555556,
              "#d8576b"
             ],
             [
              0.6666666666666666,
              "#ed7953"
             ],
             [
              0.7777777777777778,
              "#fb9f3a"
             ],
             [
              0.8888888888888888,
              "#fdca26"
             ],
             [
              1,
              "#f0f921"
             ]
            ],
            "type": "contour"
           }
          ],
          "contourcarpet": [
           {
            "colorbar": {
             "outlinewidth": 0,
             "ticks": ""
            },
            "type": "contourcarpet"
           }
          ],
          "heatmap": [
           {
            "colorbar": {
             "outlinewidth": 0,
             "ticks": ""
            },
            "colorscale": [
             [
              0,
              "#0d0887"
             ],
             [
              0.1111111111111111,
              "#46039f"
             ],
             [
              0.2222222222222222,
              "#7201a8"
             ],
             [
              0.3333333333333333,
              "#9c179e"
             ],
             [
              0.4444444444444444,
              "#bd3786"
             ],
             [
              0.5555555555555556,
              "#d8576b"
             ],
             [
              0.6666666666666666,
              "#ed7953"
             ],
             [
              0.7777777777777778,
              "#fb9f3a"
             ],
             [
              0.8888888888888888,
              "#fdca26"
             ],
             [
              1,
              "#f0f921"
             ]
            ],
            "type": "heatmap"
           }
          ],
          "heatmapgl": [
           {
            "colorbar": {
             "outlinewidth": 0,
             "ticks": ""
            },
            "colorscale": [
             [
              0,
              "#0d0887"
             ],
             [
              0.1111111111111111,
              "#46039f"
             ],
             [
              0.2222222222222222,
              "#7201a8"
             ],
             [
              0.3333333333333333,
              "#9c179e"
             ],
             [
              0.4444444444444444,
              "#bd3786"
             ],
             [
              0.5555555555555556,
              "#d8576b"
             ],
             [
              0.6666666666666666,
              "#ed7953"
             ],
             [
              0.7777777777777778,
              "#fb9f3a"
             ],
             [
              0.8888888888888888,
              "#fdca26"
             ],
             [
              1,
              "#f0f921"
             ]
            ],
            "type": "heatmapgl"
           }
          ],
          "histogram": [
           {
            "marker": {
             "colorbar": {
              "outlinewidth": 0,
              "ticks": ""
             }
            },
            "type": "histogram"
           }
          ],
          "histogram2d": [
           {
            "colorbar": {
             "outlinewidth": 0,
             "ticks": ""
            },
            "colorscale": [
             [
              0,
              "#0d0887"
             ],
             [
              0.1111111111111111,
              "#46039f"
             ],
             [
              0.2222222222222222,
              "#7201a8"
             ],
             [
              0.3333333333333333,
              "#9c179e"
             ],
             [
              0.4444444444444444,
              "#bd3786"
             ],
             [
              0.5555555555555556,
              "#d8576b"
             ],
             [
              0.6666666666666666,
              "#ed7953"
             ],
             [
              0.7777777777777778,
              "#fb9f3a"
             ],
             [
              0.8888888888888888,
              "#fdca26"
             ],
             [
              1,
              "#f0f921"
             ]
            ],
            "type": "histogram2d"
           }
          ],
          "histogram2dcontour": [
           {
            "colorbar": {
             "outlinewidth": 0,
             "ticks": ""
            },
            "colorscale": [
             [
              0,
              "#0d0887"
             ],
             [
              0.1111111111111111,
              "#46039f"
             ],
             [
              0.2222222222222222,
              "#7201a8"
             ],
             [
              0.3333333333333333,
              "#9c179e"
             ],
             [
              0.4444444444444444,
              "#bd3786"
             ],
             [
              0.5555555555555556,
              "#d8576b"
             ],
             [
              0.6666666666666666,
              "#ed7953"
             ],
             [
              0.7777777777777778,
              "#fb9f3a"
             ],
             [
              0.8888888888888888,
              "#fdca26"
             ],
             [
              1,
              "#f0f921"
             ]
            ],
            "type": "histogram2dcontour"
           }
          ],
          "mesh3d": [
           {
            "colorbar": {
             "outlinewidth": 0,
             "ticks": ""
            },
            "type": "mesh3d"
           }
          ],
          "parcoords": [
           {
            "line": {
             "colorbar": {
              "outlinewidth": 0,
              "ticks": ""
             }
            },
            "type": "parcoords"
           }
          ],
          "pie": [
           {
            "automargin": true,
            "type": "pie"
           }
          ],
          "scatter": [
           {
            "marker": {
             "colorbar": {
              "outlinewidth": 0,
              "ticks": ""
             }
            },
            "type": "scatter"
           }
          ],
          "scatter3d": [
           {
            "line": {
             "colorbar": {
              "outlinewidth": 0,
              "ticks": ""
             }
            },
            "marker": {
             "colorbar": {
              "outlinewidth": 0,
              "ticks": ""
             }
            },
            "type": "scatter3d"
           }
          ],
          "scattercarpet": [
           {
            "marker": {
             "colorbar": {
              "outlinewidth": 0,
              "ticks": ""
             }
            },
            "type": "scattercarpet"
           }
          ],
          "scattergeo": [
           {
            "marker": {
             "colorbar": {
              "outlinewidth": 0,
              "ticks": ""
             }
            },
            "type": "scattergeo"
           }
          ],
          "scattergl": [
           {
            "marker": {
             "colorbar": {
              "outlinewidth": 0,
              "ticks": ""
             }
            },
            "type": "scattergl"
           }
          ],
          "scattermapbox": [
           {
            "marker": {
             "colorbar": {
              "outlinewidth": 0,
              "ticks": ""
             }
            },
            "type": "scattermapbox"
           }
          ],
          "scatterpolar": [
           {
            "marker": {
             "colorbar": {
              "outlinewidth": 0,
              "ticks": ""
             }
            },
            "type": "scatterpolar"
           }
          ],
          "scatterpolargl": [
           {
            "marker": {
             "colorbar": {
              "outlinewidth": 0,
              "ticks": ""
             }
            },
            "type": "scatterpolargl"
           }
          ],
          "scatterternary": [
           {
            "marker": {
             "colorbar": {
              "outlinewidth": 0,
              "ticks": ""
             }
            },
            "type": "scatterternary"
           }
          ],
          "surface": [
           {
            "colorbar": {
             "outlinewidth": 0,
             "ticks": ""
            },
            "colorscale": [
             [
              0,
              "#0d0887"
             ],
             [
              0.1111111111111111,
              "#46039f"
             ],
             [
              0.2222222222222222,
              "#7201a8"
             ],
             [
              0.3333333333333333,
              "#9c179e"
             ],
             [
              0.4444444444444444,
              "#bd3786"
             ],
             [
              0.5555555555555556,
              "#d8576b"
             ],
             [
              0.6666666666666666,
              "#ed7953"
             ],
             [
              0.7777777777777778,
              "#fb9f3a"
             ],
             [
              0.8888888888888888,
              "#fdca26"
             ],
             [
              1,
              "#f0f921"
             ]
            ],
            "type": "surface"
           }
          ],
          "table": [
           {
            "cells": {
             "fill": {
              "color": "#EBF0F8"
             },
             "line": {
              "color": "white"
             }
            },
            "header": {
             "fill": {
              "color": "#C8D4E3"
             },
             "line": {
              "color": "white"
             }
            },
            "type": "table"
           }
          ]
         },
         "layout": {
          "annotationdefaults": {
           "arrowcolor": "#2a3f5f",
           "arrowhead": 0,
           "arrowwidth": 1
          },
          "autotypenumbers": "strict",
          "coloraxis": {
           "colorbar": {
            "outlinewidth": 0,
            "ticks": ""
           }
          },
          "colorscale": {
           "diverging": [
            [
             0,
             "#8e0152"
            ],
            [
             0.1,
             "#c51b7d"
            ],
            [
             0.2,
             "#de77ae"
            ],
            [
             0.3,
             "#f1b6da"
            ],
            [
             0.4,
             "#fde0ef"
            ],
            [
             0.5,
             "#f7f7f7"
            ],
            [
             0.6,
             "#e6f5d0"
            ],
            [
             0.7,
             "#b8e186"
            ],
            [
             0.8,
             "#7fbc41"
            ],
            [
             0.9,
             "#4d9221"
            ],
            [
             1,
             "#276419"
            ]
           ],
           "sequential": [
            [
             0,
             "#0d0887"
            ],
            [
             0.1111111111111111,
             "#46039f"
            ],
            [
             0.2222222222222222,
             "#7201a8"
            ],
            [
             0.3333333333333333,
             "#9c179e"
            ],
            [
             0.4444444444444444,
             "#bd3786"
            ],
            [
             0.5555555555555556,
             "#d8576b"
            ],
            [
             0.6666666666666666,
             "#ed7953"
            ],
            [
             0.7777777777777778,
             "#fb9f3a"
            ],
            [
             0.8888888888888888,
             "#fdca26"
            ],
            [
             1,
             "#f0f921"
            ]
           ],
           "sequentialminus": [
            [
             0,
             "#0d0887"
            ],
            [
             0.1111111111111111,
             "#46039f"
            ],
            [
             0.2222222222222222,
             "#7201a8"
            ],
            [
             0.3333333333333333,
             "#9c179e"
            ],
            [
             0.4444444444444444,
             "#bd3786"
            ],
            [
             0.5555555555555556,
             "#d8576b"
            ],
            [
             0.6666666666666666,
             "#ed7953"
            ],
            [
             0.7777777777777778,
             "#fb9f3a"
            ],
            [
             0.8888888888888888,
             "#fdca26"
            ],
            [
             1,
             "#f0f921"
            ]
           ]
          },
          "colorway": [
           "#636efa",
           "#EF553B",
           "#00cc96",
           "#ab63fa",
           "#FFA15A",
           "#19d3f3",
           "#FF6692",
           "#B6E880",
           "#FF97FF",
           "#FECB52"
          ],
          "font": {
           "color": "#2a3f5f"
          },
          "geo": {
           "bgcolor": "white",
           "lakecolor": "white",
           "landcolor": "#E5ECF6",
           "showlakes": true,
           "showland": true,
           "subunitcolor": "white"
          },
          "hoverlabel": {
           "align": "left"
          },
          "hovermode": "closest",
          "mapbox": {
           "style": "light"
          },
          "paper_bgcolor": "white",
          "plot_bgcolor": "#E5ECF6",
          "polar": {
           "angularaxis": {
            "gridcolor": "white",
            "linecolor": "white",
            "ticks": ""
           },
           "bgcolor": "#E5ECF6",
           "radialaxis": {
            "gridcolor": "white",
            "linecolor": "white",
            "ticks": ""
           }
          },
          "scene": {
           "xaxis": {
            "backgroundcolor": "#E5ECF6",
            "gridcolor": "white",
            "gridwidth": 2,
            "linecolor": "white",
            "showbackground": true,
            "ticks": "",
            "zerolinecolor": "white"
           },
           "yaxis": {
            "backgroundcolor": "#E5ECF6",
            "gridcolor": "white",
            "gridwidth": 2,
            "linecolor": "white",
            "showbackground": true,
            "ticks": "",
            "zerolinecolor": "white"
           },
           "zaxis": {
            "backgroundcolor": "#E5ECF6",
            "gridcolor": "white",
            "gridwidth": 2,
            "linecolor": "white",
            "showbackground": true,
            "ticks": "",
            "zerolinecolor": "white"
           }
          },
          "shapedefaults": {
           "line": {
            "color": "#2a3f5f"
           }
          },
          "ternary": {
           "aaxis": {
            "gridcolor": "white",
            "linecolor": "white",
            "ticks": ""
           },
           "baxis": {
            "gridcolor": "white",
            "linecolor": "white",
            "ticks": ""
           },
           "bgcolor": "#E5ECF6",
           "caxis": {
            "gridcolor": "white",
            "linecolor": "white",
            "ticks": ""
           }
          },
          "title": {
           "x": 0.05
          },
          "xaxis": {
           "automargin": true,
           "gridcolor": "white",
           "linecolor": "white",
           "ticks": "",
           "title": {
            "standoff": 15
           },
           "zerolinecolor": "white",
           "zerolinewidth": 2
          },
          "yaxis": {
           "automargin": true,
           "gridcolor": "white",
           "linecolor": "white",
           "ticks": "",
           "title": {
            "standoff": 15
           },
           "zerolinecolor": "white",
           "zerolinewidth": 2
          }
         }
        }
       }
      },
      "image/png": "[encoded data removed]",
      "text/html": [
       "<div>                            <div id=\"fa4b85e4-da82-4683-9e04-710705af6a2b\" class=\"plotly-graph-div\" style=\"height:525px; width:100%;\"></div>            <script type=\"text/javascript\">                require([\"plotly\"], function(Plotly) {                    window.PLOTLYENV=window.PLOTLYENV || {};                                    if (document.getElementById(\"fa4b85e4-da82-4683-9e04-710705af6a2b\")) {                    Plotly.newPlot(                        \"fa4b85e4-da82-4683-9e04-710705af6a2b\",                        [{\"colorscale\": [[0.0, \"#440154\"], [0.1111111111111111, \"#482878\"], [0.2222222222222222, \"#3e4989\"], [0.3333333333333333, \"#31688e\"], [0.4444444444444444, \"#26828e\"], [0.5555555555555556, \"#1f9e89\"], [0.6666666666666666, \"#35b779\"], [0.7777777777777778, \"#6ece58\"], [0.8888888888888888, \"#b5de2b\"], [1.0, \"#fde725\"]], \"intensity\": [-0.0336691290140152, 0.22296643257141113, 0.12244884669780731, 0.02806035615503788, -0.0817449763417244, 0.48747846484184265, 0.01262428518384695, -0.14385750889778137, -0.5475162267684937, 0.6578136682510376, -0.4550817012786865, -0.5548612475395203, -0.3071756958961487, 0.3901025950908661, -0.014739204198122025, -0.5185596346855164, -0.3511684536933899, -0.2813079059123993, 0.36646148562431335, -0.25113290548324585, -0.04698823764920235, 0.1470758318901062, -0.052576132118701935, -0.1762901246547699, -0.03629133105278015, 0.5477379560470581, -0.4005260467529297, -0.27064159512519836, -0.406023770570755, 0.5343965291976929, -0.06371127814054489, -0.16024696826934814, -0.2131987363100052, 0.19043394923210144, 0.3692534565925598, -0.6635563373565674, -0.47168076038360596, -0.35256054997444153, 0.42248964309692383, -0.21853211522102356, 0.025356851518154144, -0.061108265072107315, -0.13572712242603302, 0.11936011165380478, 0.16630063951015472, -0.11868184059858322, 0.02765835076570511, -0.01833408698439598, 0.0, 0.0, 0.0, 0.0, -0.49076104164123535, 0.4271469712257385, 0.302619069814682, -0.3466036319732666, -0.3695213198661804, -0.25152894854545593, 0.41188696026802063, -0.49998071789741516, -0.11281988769769669, 0.12539717555046082, -0.14246459305286407, -0.10005195438861847, -0.05235352739691734, 0.1510026901960373, 0.052299607545137405, -0.14004164934158325, 0.0, 0.0, 0.0, 0.0, -0.38785165548324585, 0.1544840931892395, 0.29924291372299194, -0.3587063252925873, -0.3399345576763153, -0.29315513372421265, 0.3780665695667267, -0.3500686585903168, 0.2281636893749237, -0.03666297346353531, -0.12185723334550858, 0.09478195756673813, -0.1909262239933014, 0.08912037312984467, 0.12637823820114136, 0.0028137057088315487, -0.14150549471378326, 0.0354362316429615, 0.21502521634101868, -0.08543230593204498, -0.21886378526687622, 0.16761961579322815, -0.3070726990699768, -0.22320418059825897, 0.0, 0.0, 0.0, 0.0], \"opacity\": 0.9, \"type\": \"mesh3d\", \"x\": [0.0, 0.25, 0.0, -0.25, 1.0, 1.25, 1.0, 0.75, 2.0, 2.25, 2.0, 1.75, 3.0, 3.25, 3.0, 2.75, 4.0, 4.25, 4.0, 3.75, 0.0, 0.25, 0.0, -0.25, 1.0, 1.25, 1.0, 0.75, 2.0, 2.25, 2.0, 1.75, 3.0, 3.25, 3.0, 2.75, 4.0, 4.25, 4.0, 3.75, 0.0, 0.25, 0.0, -0.25, 1.0, 1.25, 1.0, 0.75, 2.0, 2.25, 2.0, 1.75, 3.0, 3.25, 3.0, 2.75, 4.0, 4.25, 4.0, 3.75, 0.0, 0.25, 0.0, -0.25, 1.0, 1.25, 1.0, 0.75, 2.0, 2.25, 2.0, 1.75, 3.0, 3.25, 3.0, 2.75, 4.0, 4.25, 4.0, 3.75, 0.0, 0.25, 0.0, -0.25, 1.0, 1.25, 1.0, 0.75, 2.0, 2.25, 2.0, 1.75, 3.0, 3.25, 3.0, 2.75, 4.0, 4.25, 4.0, 3.75], \"y\": [-0.25, 0.0, 0.25, 0.0, -0.25, 0.0, 0.25, 0.0, -0.25, 0.0, 0.25, 0.0, -0.25, 0.0, 0.25, 0.0, -0.25, 0.0, 0.25, 0.0, 0.75, 1.0, 1.25, 1.0, 0.75, 1.0, 1.25, 1.0, 0.75, 1.0, 1.25, 1.0, 0.75, 1.0, 1.25, 1.0, 0.75, 1.0, 1.25, 1.0, 1.75, 2.0, 2.25, 2.0, 1.75, 2.0, 2.25, 2.0, 1.75, 2.0, 2.25, 2.0, 1.75, 2.0, 2.25, 2.0, 1.75, 2.0, 2.25, 2.0, 2.75, 3.0, 3.25, 3.0, 2.75, 3.0, 3.25, 3.0, 2.75, 3.0, 3.25, 3.0, 2.75, 3.0, 3.25, 3.0, 2.75, 3.0, 3.25, 3.0, 3.75, 4.0, 4.25, 4.0, 3.75, 4.0, 4.25, 4.0, 3.75, 4.0, 4.25, 4.0, 3.75, 4.0, 4.25, 4.0, 3.75, 4.0, 4.25, 4.0], \"z\": [-0.0336691290140152, 0.22296643257141113, 0.12244884669780731, 0.02806035615503788, -0.0817449763417244, 0.48747846484184265, 0.01262428518384695, -0.14385750889778137, -0.5475162267684937, 0.6578136682510376, -0.4550817012786865, -0.5548612475395203, -0.3071756958961487, 0.3901025950908661, -0.014739204198122025, -0.5185596346855164, -0.3511684536933899, -0.2813079059123993, 0.36646148562431335, -0.25113290548324585, -0.04698823764920235, 0.1470758318901062, -0.052576132118701935, -0.1762901246547699, -0.03629133105278015, 0.5477379560470581, -0.4005260467529297, -0.27064159512519836, -0.406023770570755, 0.5343965291976929, -0.06371127814054489, -0.16024696826934814, -0.2131987363100052, 0.19043394923210144, 0.3692534565925598, -0.6635563373565674, -0.47168076038360596, -0.35256054997444153, 0.42248964309692383, -0.21853211522102356, 0.025356851518154144, -0.061108265072107315, -0.13572712242603302, 0.11936011165380478, 0.16630063951015472, -0.11868184059858322, 0.02765835076570511, -0.01833408698439598, 0.0, 0.0, 0.0, 0.0, -0.49076104164123535, 0.4271469712257385, 0.302619069814682, -0.3466036319732666, -0.3695213198661804, -0.25152894854545593, 0.41188696026802063, -0.49998071789741516, -0.11281988769769669, 0.12539717555046082, -0.14246459305286407, -0.10005195438861847, -0.05235352739691734, 0.1510026901960373, 0.052299607545137405, -0.14004164934158325, 0.0, 0.0, 0.0, 0.0, -0.38785165548324585, 0.1544840931892395, 0.29924291372299194, -0.3587063252925873, -0.3399345576763153, -0.29315513372421265, 0.3780665695667267, -0.3500686585903168, 0.2281636893749237, -0.03666297346353531, -0.12185723334550858, 0.09478195756673813, -0.1909262239933014, 0.08912037312984467, 0.12637823820114136, 0.0028137057088315487, -0.14150549471378326, 0.0354362316429615, 0.21502521634101868, -0.08543230593204498, -0.21886378526687622, 0.16761961579322815, -0.3070726990699768, -0.22320418059825897, 0.0, 0.0, 0.0, 0.0]}],                        {\"template\": {\"data\": {\"bar\": [{\"error_x\": {\"color\": \"#2a3f5f\"}, \"error_y\": {\"color\": \"#2a3f5f\"}, \"marker\": {\"line\": {\"color\": \"#E5ECF6\", \"width\": 0.5}}, \"type\": \"bar\"}], \"barpolar\": [{\"marker\": {\"line\": {\"color\": \"#E5ECF6\", \"width\": 0.5}}, \"type\": \"barpolar\"}], \"carpet\": [{\"aaxis\": {\"endlinecolor\": \"#2a3f5f\", \"gridcolor\": \"white\", \"linecolor\": \"white\", \"minorgridcolor\": \"white\", \"startlinecolor\": \"#2a3f5f\"}, \"baxis\": {\"endlinecolor\": \"#2a3f5f\", \"gridcolor\": \"white\", \"linecolor\": \"white\", \"minorgridcolor\": \"white\", \"startlinecolor\": \"#2a3f5f\"}, \"type\": \"carpet\"}], \"choropleth\": [{\"colorbar\": {\"outlinewidth\": 0, \"ticks\": \"\"}, \"type\": \"choropleth\"}], \"contour\": [{\"colorbar\": {\"outlinewidth\": 0, \"ticks\": \"\"}, \"colorscale\": [[0.0, \"#0d0887\"], [0.1111111111111111, \"#46039f\"], [0.2222222222222222, \"#7201a8\"], [0.3333333333333333, \"#9c179e\"], [0.4444444444444444, \"#bd3786\"], [0.5555555555555556, \"#d8576b\"], [0.6666666666666666, \"#ed7953\"], [0.7777777777777778, \"#fb9f3a\"], [0.8888888888888888, \"#fdca26\"], [1.0, \"#f0f921\"]], \"type\": \"contour\"}], \"contourcarpet\": [{\"colorbar\": {\"outlinewidth\": 0, \"ticks\": \"\"}, \"type\": \"contourcarpet\"}], \"heatmap\": [{\"colorbar\": {\"outlinewidth\": 0, \"ticks\": \"\"}, \"colorscale\": [[0.0, \"#0d0887\"], [0.1111111111111111, \"#46039f\"], [0.2222222222222222, \"#7201a8\"], [0.3333333333333333, \"#9c179e\"], [0.4444444444444444, \"#bd3786\"], [0.5555555555555556, \"#d8576b\"], [0.6666666666666666, \"#ed7953\"], [0.7777777777777778, \"#fb9f3a\"], [0.8888888888888888, \"#fdca26\"], [1.0, \"#f0f921\"]], \"type\": \"heatmap\"}], \"heatmapgl\": [{\"colorbar\": {\"outlinewidth\": 0, \"ticks\": \"\"}, \"colorscale\": [[0.0, \"#0d0887\"], [0.1111111111111111, \"#46039f\"], [0.2222222222222222, \"#7201a8\"], [0.3333333333333333, \"#9c179e\"], [0.4444444444444444, \"#bd3786\"], [0.5555555555555556, \"#d8576b\"], [0.6666666666666666, \"#ed7953\"], [0.7777777777777778, \"#fb9f3a\"], [0.8888888888888888, \"#fdca26\"], [1.0, \"#f0f921\"]], \"type\": \"heatmapgl\"}], \"histogram\": [{\"marker\": {\"colorbar\": {\"outlinewidth\": 0, \"ticks\": \"\"}}, \"type\": \"histogram\"}], \"histogram2d\": [{\"colorbar\": {\"outlinewidth\": 0, \"ticks\": \"\"}, \"colorscale\": [[0.0, \"#0d0887\"], [0.1111111111111111, \"#46039f\"], [0.2222222222222222, \"#7201a8\"], [0.3333333333333333, \"#9c179e\"], [0.4444444444444444, \"#bd3786\"], [0.5555555555555556, \"#d8576b\"], [0.6666666666666666, \"#ed7953\"], [0.7777777777777778, \"#fb9f3a\"], [0.8888888888888888, \"#fdca26\"], [1.0, \"#f0f921\"]], \"type\": \"histogram2d\"}], \"histogram2dcontour\": [{\"colorbar\": {\"outlinewidth\": 0, \"ticks\": \"\"}, \"colorscale\": [[0.0, \"#0d0887\"], [0.1111111111111111, \"#46039f\"], [0.2222222222222222, \"#7201a8\"], [0.3333333333333333, \"#9c179e\"], [0.4444444444444444, \"#bd3786\"], [0.5555555555555556, \"#d8576b\"], [0.6666666666666666, \"#ed7953\"], [0.7777777777777778, \"#fb9f3a\"], [0.8888888888888888, \"#fdca26\"], [1.0, \"#f0f921\"]], \"type\": \"histogram2dcontour\"}], \"mesh3d\": [{\"colorbar\": {\"outlinewidth\": 0, \"ticks\": \"\"}, \"type\": \"mesh3d\"}], \"parcoords\": [{\"line\": {\"colorbar\": {\"outlinewidth\": 0, \"ticks\": \"\"}}, \"type\": \"parcoords\"}], \"pie\": [{\"automargin\": true, \"type\": \"pie\"}], \"scatter\": [{\"marker\": {\"colorbar\": {\"outlinewidth\": 0, \"ticks\": \"\"}}, \"type\": \"scatter\"}], \"scatter3d\": [{\"line\": {\"colorbar\": {\"outlinewidth\": 0, \"ticks\": \"\"}}, \"marker\": {\"colorbar\": {\"outlinewidth\": 0, \"ticks\": \"\"}}, \"type\": \"scatter3d\"}], \"scattercarpet\": [{\"marker\": {\"colorbar\": {\"outlinewidth\": 0, \"ticks\": \"\"}}, \"type\": \"scattercarpet\"}], \"scattergeo\": [{\"marker\": {\"colorbar\": {\"outlinewidth\": 0, \"ticks\": \"\"}}, \"type\": \"scattergeo\"}], \"scattergl\": [{\"marker\": {\"colorbar\": {\"outlinewidth\": 0, \"ticks\": \"\"}}, \"type\": \"scattergl\"}], \"scattermapbox\": [{\"marker\": {\"colorbar\": {\"outlinewidth\": 0, \"ticks\": \"\"}}, \"type\": \"scattermapbox\"}], \"scatterpolar\": [{\"marker\": {\"colorbar\": {\"outlinewidth\": 0, \"ticks\": \"\"}}, \"type\": \"scatterpolar\"}], \"scatterpolargl\": [{\"marker\": {\"colorbar\": {\"outlinewidth\": 0, \"ticks\": \"\"}}, \"type\": \"scatterpolargl\"}], \"scatterternary\": [{\"marker\": {\"colorbar\": {\"outlinewidth\": 0, \"ticks\": \"\"}}, \"type\": \"scatterternary\"}], \"surface\": [{\"colorbar\": {\"outlinewidth\": 0, \"ticks\": \"\"}, \"colorscale\": [[0.0, \"#0d0887\"], [0.1111111111111111, \"#46039f\"], [0.2222222222222222, \"#7201a8\"], [0.3333333333333333, \"#9c179e\"], [0.4444444444444444, \"#bd3786\"], [0.5555555555555556, \"#d8576b\"], [0.6666666666666666, \"#ed7953\"], [0.7777777777777778, \"#fb9f3a\"], [0.8888888888888888, \"#fdca26\"], [1.0, \"#f0f921\"]], \"type\": \"surface\"}], \"table\": [{\"cells\": {\"fill\": {\"color\": \"#EBF0F8\"}, \"line\": {\"color\": \"white\"}}, \"header\": {\"fill\": {\"color\": \"#C8D4E3\"}, \"line\": {\"color\": \"white\"}}, \"type\": \"table\"}]}, \"layout\": {\"annotationdefaults\": {\"arrowcolor\": \"#2a3f5f\", \"arrowhead\": 0, \"arrowwidth\": 1}, \"autotypenumbers\": \"strict\", \"coloraxis\": {\"colorbar\": {\"outlinewidth\": 0, \"ticks\": \"\"}}, \"colorscale\": {\"diverging\": [[0, \"#8e0152\"], [0.1, \"#c51b7d\"], [0.2, \"#de77ae\"], [0.3, \"#f1b6da\"], [0.4, \"#fde0ef\"], [0.5, \"#f7f7f7\"], [0.6, \"#e6f5d0\"], [0.7, \"#b8e186\"], [0.8, \"#7fbc41\"], [0.9, \"#4d9221\"], [1, \"#276419\"]], \"sequential\": [[0.0, \"#0d0887\"], [0.1111111111111111, \"#46039f\"], [0.2222222222222222, \"#7201a8\"], [0.3333333333333333, \"#9c179e\"], [0.4444444444444444, \"#bd3786\"], [0.5555555555555556, \"#d8576b\"], [0.6666666666666666, \"#ed7953\"], [0.7777777777777778, \"#fb9f3a\"], [0.8888888888888888, \"#fdca26\"], [1.0, \"#f0f921\"]], \"sequentialminus\": [[0.0, \"#0d0887\"], [0.1111111111111111, \"#46039f\"], [0.2222222222222222, \"#7201a8\"], [0.3333333333333333, \"#9c179e\"], [0.4444444444444444, \"#bd3786\"], [0.5555555555555556, \"#d8576b\"], [0.6666666666666666, \"#ed7953\"], [0.7777777777777778, \"#fb9f3a\"], [0.8888888888888888, \"#fdca26\"], [1.0, \"#f0f921\"]]}, \"colorway\": [\"#636efa\", \"#EF553B\", \"#00cc96\", \"#ab63fa\", \"#FFA15A\", \"#19d3f3\", \"#FF6692\", \"#B6E880\", \"#FF97FF\", \"#FECB52\"], \"font\": {\"color\": \"#2a3f5f\"}, \"geo\": {\"bgcolor\": \"white\", \"lakecolor\": \"white\", \"landcolor\": \"#E5ECF6\", \"showlakes\": true, \"showland\": true, \"subunitcolor\": \"white\"}, \"hoverlabel\": {\"align\": \"left\"}, \"hovermode\": \"closest\", \"mapbox\": {\"style\": \"light\"}, \"paper_bgcolor\": \"white\", \"plot_bgcolor\": \"#E5ECF6\", \"polar\": {\"angularaxis\": {\"gridcolor\": \"white\", \"linecolor\": \"white\", \"ticks\": \"\"}, \"bgcolor\": \"#E5ECF6\", \"radialaxis\": {\"gridcolor\": \"white\", \"linecolor\": \"white\", \"ticks\": \"\"}}, \"scene\": {\"xaxis\": {\"backgroundcolor\": \"#E5ECF6\", \"gridcolor\": \"white\", \"gridwidth\": 2, \"linecolor\": \"white\", \"showbackground\": true, \"ticks\": \"\", \"zerolinecolor\": \"white\"}, \"yaxis\": {\"backgroundcolor\": \"#E5ECF6\", \"gridcolor\": \"white\", \"gridwidth\": 2, \"linecolor\": \"white\", \"showbackground\": true, \"ticks\": \"\", \"zerolinecolor\": \"white\"}, \"zaxis\": {\"backgroundcolor\": \"#E5ECF6\", \"gridcolor\": \"white\", \"gridwidth\": 2, \"linecolor\": \"white\", \"showbackground\": true, \"ticks\": \"\", \"zerolinecolor\": \"white\"}}, \"shapedefaults\": {\"line\": {\"color\": \"#2a3f5f\"}}, \"ternary\": {\"aaxis\": {\"gridcolor\": \"white\", \"linecolor\": \"white\", \"ticks\": \"\"}, \"baxis\": {\"gridcolor\": \"white\", \"linecolor\": \"white\", \"ticks\": \"\"}, \"bgcolor\": \"#E5ECF6\", \"caxis\": {\"gridcolor\": \"white\", \"linecolor\": \"white\", \"ticks\": \"\"}}, \"title\": {\"x\": 0.05}, \"xaxis\": {\"automargin\": true, \"gridcolor\": \"white\", \"linecolor\": \"white\", \"ticks\": \"\", \"title\": {\"standoff\": 15}, \"zerolinecolor\": \"white\", \"zerolinewidth\": 2}, \"yaxis\": {\"automargin\": true, \"gridcolor\": \"white\", \"linecolor\": \"white\", \"ticks\": \"\", \"title\": {\"standoff\": 15}, \"zerolinecolor\": \"white\", \"zerolinewidth\": 2}}}},                        {\"responsive\": true}                    ).then(function(){\n",
       "                            \n",
       "var gd = document.getElementById('fa4b85e4-da82-4683-9e04-710705af6a2b');\n",
       "var x = new MutationObserver(function (mutations, observer) {{\n",
       "        var display = window.getComputedStyle(gd).display;\n",
       "        if (!display || display === 'none') {{\n",
       "            console.log([gd, 'removed!']);\n",
       "            Plotly.purge(gd);\n",
       "            observer.disconnect();\n",
       "        }}\n",
       "}});\n",
       "\n",
       "// Listen for the removal of the full notebook cells\n",
       "var notebookContainer = gd.closest('#notebook-container');\n",
       "if (notebookContainer) {{\n",
       "    x.observe(notebookContainer, {childList: true});\n",
       "}}\n",
       "\n",
       "// Listen for the clearing of the current output cell\n",
       "var outputEl = gd.closest('.output');\n",
       "if (outputEl) {{\n",
       "    x.observe(outputEl, {childList: true});\n",
       "}}\n",
       "\n",
       "                        })                };                });            </script>        </div>"
      ]
     },
     "metadata": {},
     "output_type": "display_data"
    }
   ],
   "source": [
    "fig = go.Figure(data=[go.Mesh3d(x=X, y=Y, z=R, opacity=0.9, intensity=R, colorscale='Viridis')])\n",
    "fig.show()"
   ]
  },
  {
   "cell_type": "code",
   "execution_count": null,
   "id": "banned-deadline",
   "metadata": {},
   "outputs": [],
   "source": []
  }
 ],
 "metadata": {
  "kernelspec": {
   "display_name": "ml",
   "language": "python",
   "name": "ml"
  },
  "language_info": {
   "codemirror_mode": {
    "name": "ipython",
    "version": 3
   },
   "file_extension": ".py",
   "mimetype": "text/x-python",
   "name": "python",
   "nbconvert_exporter": "python",
   "pygments_lexer": "ipython3",
   "version": "3.8.8"
  }
 },
 "nbformat": 4,
 "nbformat_minor": 5
}
